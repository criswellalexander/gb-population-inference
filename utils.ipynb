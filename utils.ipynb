{
 "cells": [
  {
   "cell_type": "code",
   "execution_count": 1,
   "id": "4951b027-b526-4121-8c5d-04e17d4053e1",
   "metadata": {},
   "outputs": [],
   "source": [
    "import numpy as np\n",
    "import matplotlib.pyplot as plt\n",
    "from scipy.signal import welch, hann"
   ]
  },
  {
   "cell_type": "code",
   "execution_count": 2,
   "id": "33f13ff1-ff40-4847-95bf-b4ba7bc42f27",
   "metadata": {},
   "outputs": [],
   "source": [
    "def get_rfft(data, times, sample_rate):\n",
    "    return np.fft.rfftfreq(data.size, d=1/sample_rate), np.fft.rfft(data, norm=\"backward\")"
   ]
  },
  {
   "cell_type": "code",
   "execution_count": 18,
   "id": "a449ab61-6978-4bad-9e6e-cee73212d5e6",
   "metadata": {},
   "outputs": [],
   "source": [
    "def generate_time_domain_detector_noise(time_array, noise_amplitude):\n",
    "    noise = np.random.randn(time_array.size) * noise_amplitude\n",
    "    return noise\n",
    "\n",
    "def generate_detector_noise_psd(sample_rate, duration, noise_amplitude):\n",
    "    deltaT = 1/sample_rate\n",
    "    times = np.arange(0, duration, deltaT)\n",
    "    td_noise = generate_time_domain_detector_noise(times, noise_amplitude)\n",
    "    f, noise_psd = welch(td_noise, fs=sample_rate, nperseg=times.size)\n",
    "    noise_psd /= 2\n",
    "    return {'frequencies': f, 'noisePSD': noise_psd}"
   ]
  },
  {
   "cell_type": "code",
   "execution_count": 17,
   "id": "3c04e239-20d2-4f78-9db4-3b31c76e3254",
   "metadata": {},
   "outputs": [],
   "source": [
    "class Likelihood(object):\n",
    "    def __init__(self, frequencies, fft_data, detector_noise_psd, duration):\n",
    "        self.parameters = dict()\n",
    "        self.fft_data = fft_data\n",
    "        self.detector_noise_psd = detector_noise_psd\n",
    "        self.duration = duration\n",
    "        \n",
    "    def log_likelihood_function(self):\n",
    "        resolved_strain = get_resolved_signals(self.parameters)\n",
    "        unresolved_psd = get_unresolved_psd(self.parameters)\n",
    "        total_psd = detector_noise_psd + unresolved_psd\n",
    "        return -np.sum(2 * np.abs(resolved_strain - fft_data)**2 / (self.duration * total_psd)) - np.sum(np.log(np.pi * total_psd * self.duration))\n"
   ]
  },
  {
   "cell_type": "code",
   "execution_count": null,
   "id": "195d181a-78d7-4fbc-a997-6223c1c43c75",
   "metadata": {},
   "outputs": [],
   "source": []
  }
 ],
 "metadata": {
  "kernelspec": {
   "display_name": "pe-py310-20230615",
   "language": "python",
   "name": "pe-py310-20230615"
  },
  "language_info": {
   "codemirror_mode": {
    "name": "ipython",
    "version": 3
   },
   "file_extension": ".py",
   "mimetype": "text/x-python",
   "name": "python",
   "nbconvert_exporter": "python",
   "pygments_lexer": "ipython3",
   "version": "3.10.11"
  }
 },
 "nbformat": 4,
 "nbformat_minor": 5
}
